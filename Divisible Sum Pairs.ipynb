{
 "cells": [
  {
   "cell_type": "markdown",
   "id": "d09e9157",
   "metadata": {},
   "source": [
    "Given an array of integers and a positive integer , determine the number of  pairs where i < j and ar[i] + ar[j]  is divisible by k.\n",
    "\n",
    "Example\n",
    "\n",
    "ar = [1,2,3,4,5,6]\n",
    "k = 5\n",
    "\n",
    "Three pairs meet the criteria: \n",
    "[1, 4], [2,3] and [4,6].\n",
    "\n",
    "Function Description\n",
    "\n",
    "Complete the divisibleSumPairs function in the editor below.\n",
    "\n",
    "divisibleSumPairs has the following parameter(s):\n",
    "\n",
    "int n: the length of array ar\n",
    "\n",
    "int ar[n]: an array of integers\n",
    "\n",
    "int k: the integer divisor\n",
    "\n",
    "Returns\n",
    "- int: the number of pairs\n",
    "\n",
    "Input Format\n",
    "\n",
    "The first line contains 2 space-separated integers, n and k.\n",
    "\n",
    "The second line contains n space-separated integers, each a value of ar[i].\n",
    "\n",
    "Constraints\n",
    "\n",
    "-> 2 <= n <= 100\n",
    "\n",
    "-> 1 <= k <= 100\n",
    "\n",
    "-> q <= ar[i] <= 100\n",
    "\n",
    "Sample Input\n",
    "\n",
    "n = 6\n",
    "\n",
    "k = 3\n",
    "\n",
    "ar = [1,3,2,6,1,2]\n",
    "\n",
    "Sample Output\n",
    "5\n",
    "\n",
    "Explaination\n",
    "\n",
    "Here are the 5 valid pairs when k = 3\n",
    "\n",
    "(0,2) -> ar[0] + ar[2] = 1 + 2 = 3\n",
    "\n",
    "(0,5) -> ar[0] + ar[5] = 1 + 2 = 3\n",
    "\n",
    "(1,3) -> ar[1] + ar[3] = 3 + 6 = 9\n",
    "\n",
    "(2,4) -> ar[4] + ar[2] = 1 + 2 = 3\n",
    "\n",
    "(4,5) -> ar[4] + ar[5] = 1 + 2 = 3"
   ]
  },
  {
   "cell_type": "code",
   "execution_count": 122,
   "id": "03c8ac52",
   "metadata": {},
   "outputs": [],
   "source": [
    "import math\n",
    "import os\n",
    "import random\n",
    "import re\n",
    "import sys"
   ]
  },
  {
   "cell_type": "markdown",
   "id": "10323471",
   "metadata": {},
   "source": [
    "## Test Case"
   ]
  },
  {
   "cell_type": "code",
   "execution_count": 123,
   "id": "e850111f",
   "metadata": {},
   "outputs": [],
   "source": [
    "n = 6\n",
    "k = 3\n",
    "ar = [1, 3, 2, 6, 1, 2]"
   ]
  },
  {
   "cell_type": "markdown",
   "id": "f7422a97",
   "metadata": {},
   "source": [
    "## Solution 1"
   ]
  },
  {
   "cell_type": "code",
   "execution_count": 95,
   "id": "40906bd4",
   "metadata": {},
   "outputs": [],
   "source": [
    "def tup(ar, n):\n",
    "    \n",
    "    tups = []\n",
    "    \n",
    "    for i in range(n):\n",
    "        for x in range(n):\n",
    "            if ar[i] < ar[x]:\n",
    "                tups.append((ar[i],ar[x]))\n",
    "    return tups\n",
    "    "
   ]
  },
  {
   "cell_type": "code",
   "execution_count": 96,
   "id": "edb30f56",
   "metadata": {},
   "outputs": [
    {
     "name": "stdout",
     "output_type": "stream",
     "text": [
      "(1, 3)\n"
     ]
    },
    {
     "data": {
      "text/plain": [
       "int"
      ]
     },
     "execution_count": 96,
     "metadata": {},
     "output_type": "execute_result"
    }
   ],
   "source": [
    "tups_list = tup(ar, n)\n",
    "print(tups_list[0])\n",
    "type(tups_list[0][0])"
   ]
  },
  {
   "cell_type": "code",
   "execution_count": 107,
   "id": "dc720a4a",
   "metadata": {},
   "outputs": [],
   "source": [
    "def answer(tups_list, k):\n",
    "    count = []    \n",
    "    for i in range(len(tups_list)):\n",
    "        if (tups_list[i][0] + tups_list[i][1]) % k == 0:\n",
    "            count.append(tups_list[i])\n",
    "    print(len(count))"
   ]
  },
  {
   "cell_type": "code",
   "execution_count": 109,
   "id": "f9879edf",
   "metadata": {},
   "outputs": [
    {
     "name": "stdout",
     "output_type": "stream",
     "text": [
      "5\n"
     ]
    }
   ],
   "source": [
    "answer(tups_list, k)"
   ]
  },
  {
   "cell_type": "code",
   "execution_count": 110,
   "id": "e16489de",
   "metadata": {},
   "outputs": [],
   "source": [
    "def divisibleSumPairs(n, k, ar):\n",
    "    tups_list = tup(ar, n)\n",
    "    answer(tups_list, k)"
   ]
  },
  {
   "cell_type": "code",
   "execution_count": 124,
   "id": "d5255fa7",
   "metadata": {},
   "outputs": [
    {
     "name": "stdout",
     "output_type": "stream",
     "text": [
      "5\n"
     ]
    }
   ],
   "source": [
    "result = divisibleSumPairs(n, k, ar)"
   ]
  },
  {
   "cell_type": "markdown",
   "id": "e94571d3",
   "metadata": {},
   "source": [
    "## Solution 2"
   ]
  },
  {
   "cell_type": "code",
   "execution_count": 114,
   "id": "62d77e2e",
   "metadata": {},
   "outputs": [],
   "source": [
    "def divisibleSumPairs2(n, k, ar):\n",
    "    tups = []\n",
    "    count = [] \n",
    "    \n",
    "    for i in range(n):\n",
    "        for x in range(n):\n",
    "            if ar[i] < ar[x]:\n",
    "                tups.append((ar[i],ar[x]))\n",
    "                \n",
    "    for i in range(len(tups)):\n",
    "        if (tups[i][0] + tups[i][1]) % k == 0:\n",
    "            count.append(tups[i])\n",
    "    print(len(count))"
   ]
  },
  {
   "cell_type": "code",
   "execution_count": 125,
   "id": "e6bae0e9",
   "metadata": {},
   "outputs": [
    {
     "name": "stdout",
     "output_type": "stream",
     "text": [
      "5\n"
     ]
    }
   ],
   "source": [
    "result = divisibleSumPairs2(n, k, ar)"
   ]
  },
  {
   "cell_type": "markdown",
   "id": "8dfbd294",
   "metadata": {},
   "source": [
    "## Solution 3"
   ]
  },
  {
   "cell_type": "code",
   "execution_count": 120,
   "id": "6ee08193",
   "metadata": {},
   "outputs": [],
   "source": [
    "def divisibleSumPairs3(n, k, ar):\n",
    "    count = [] \n",
    "    \n",
    "    for i in range(n):\n",
    "        for x in range(n):\n",
    "            if ar[i] < ar[x]:\n",
    "                if (ar[i] + ar[x]) % k == 0:\n",
    "                    count.append((ar[i],ar[x]))\n",
    "    print(len(count))"
   ]
  },
  {
   "cell_type": "code",
   "execution_count": 121,
   "id": "6d6141a2",
   "metadata": {},
   "outputs": [
    {
     "name": "stdout",
     "output_type": "stream",
     "text": [
      "5\n"
     ]
    }
   ],
   "source": [
    "result = divisibleSumPairs3(n, k, ar)"
   ]
  }
 ],
 "metadata": {
  "kernelspec": {
   "display_name": "Python 3 (ipykernel)",
   "language": "python",
   "name": "python3"
  },
  "language_info": {
   "codemirror_mode": {
    "name": "ipython",
    "version": 3
   },
   "file_extension": ".py",
   "mimetype": "text/x-python",
   "name": "python",
   "nbconvert_exporter": "python",
   "pygments_lexer": "ipython3",
   "version": "3.9.7"
  }
 },
 "nbformat": 4,
 "nbformat_minor": 5
}
